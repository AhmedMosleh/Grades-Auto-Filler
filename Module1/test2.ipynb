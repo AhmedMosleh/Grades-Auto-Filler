{
 "cells": [
  {
   "cell_type": "code",
   "execution_count": 2,
   "metadata": {},
   "outputs": [
    {
     "name": "stdout",
     "output_type": "stream",
     "text": [
      "Number of contours = 120\n",
      "[[[3536 1329]]\n",
      "\n",
      " [[3536 1389]]\n",
      "\n",
      " [[3726 1389]]\n",
      "\n",
      " [[3727 1390]]\n",
      "\n",
      " [[3856 1390]]\n",
      "\n",
      " [[3856 1332]]\n",
      "\n",
      " [[3855 1331]]\n",
      "\n",
      " [[3855 1330]]\n",
      "\n",
      " [[3673 1330]]\n",
      "\n",
      " [[3672 1329]]]\n"
     ]
    }
   ],
   "source": [
    "import numpy as np\n",
    "import matplotlib.pyplot as plt\n",
    "import cv2\n",
    "\n",
    "def _imshow(img):\n",
    "    cv2.imshow('image', img)\n",
    "    plt.show()\n",
    "    # specify a wait key from keyboard\n",
    "    k = cv2.waitKey(0) & 0xFF\n",
    "\n",
    "    if k == 27: #esc in keyboard\n",
    "        cv2.destroyAllWindows() #close the window   \n",
    "\n",
    "    elif k == ord('s'): #if order is s save the image\n",
    "        cv2.imwrite('lena_copy.png', img) #write image in your pc     \n",
    "        cv2.destroyAllWindows() # close the window \n",
    "\n",
    "\n",
    "img = cv2.imread(\"lena_copy.png\")\n",
    "\n",
    "imgray = cv2.cvtColor(img, cv2.COLOR_BGR2GRAY)\n",
    "\n",
    "ret, thresh = cv2.threshold(imgray, 127, 255, 0)\n",
    "\n",
    "contours, hierarchy = cv2.findContours(thresh, cv2.RETR_LIST     , cv2.CHAIN_APPROX_SIMPLE)\n",
    "\n",
    "print(\"Number of contours = \" + str(len(contours)))\n",
    "\n",
    "print(contours[0])\n",
    "\n",
    "\n",
    "\n",
    "cv2.drawContours(img, contours, -1, (0, 255, 0), 3)\n",
    "\n",
    "cv2.drawContours(imgray, contours, -1, (0, 255, 0), 3)\n",
    "\n",
    "_imshow(img)\n",
    "\n",
    "\n",
    "# cv2.imshow('Image', img)\n",
    "\n",
    "# cv2.imshow('Image GRAY', imgray)\n",
    "\n",
    "# cv2.waitKey(0)\n",
    "\n",
    "# cv2.destroyAllWindows()#close window"
   ]
  }
 ],
 "metadata": {
  "kernelspec": {
   "display_name": "base",
   "language": "python",
   "name": "python3"
  },
  "language_info": {
   "codemirror_mode": {
    "name": "ipython",
    "version": 3
   },
   "file_extension": ".py",
   "mimetype": "text/x-python",
   "name": "python",
   "nbconvert_exporter": "python",
   "pygments_lexer": "ipython3",
   "version": "3.9.13"
  },
  "orig_nbformat": 4,
  "vscode": {
   "interpreter": {
    "hash": "88033ea6e6aaf353f3d26ef69434bb9b1f089d6b00d896155ae24c39a5d92896"
   }
  }
 },
 "nbformat": 4,
 "nbformat_minor": 2
}
